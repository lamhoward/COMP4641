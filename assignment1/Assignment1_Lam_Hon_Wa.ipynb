{
 "cells": [
  {
   "cell_type": "code",
   "execution_count": 1,
   "metadata": {},
   "outputs": [],
   "source": [
    "# question 1"
   ]
  },
  {
   "cell_type": "code",
   "execution_count": 2,
   "metadata": {},
   "outputs": [],
   "source": [
    "import networkx as nx\n",
    "import numpy as np\n",
    "import matplotlib.pyplot as plt\n",
    "import pylab\n",
    "%matplotlib inline"
   ]
  },
  {
   "cell_type": "code",
   "execution_count": 3,
   "metadata": {},
   "outputs": [
    {
     "name": "stderr",
     "output_type": "stream",
     "text": [
      "/anaconda3/lib/python3.7/site-packages/networkx/drawing/nx_pylab.py:611: MatplotlibDeprecationWarning: isinstance(..., numbers.Number)\n",
      "  if cb.is_numlike(alpha):\n"
     ]
    },
    {
     "data": {
      "image/png": "[encoded data removed]",
      "text/plain": [
       "<Figure size 432x288 with 1 Axes>"
      ]
     },
     "metadata": {
      "needs_background": "light"
     },
     "output_type": "display_data"
    }
   ],
   "source": [
    "with open('input.txt', 'r') as f:\n",
    "    l = [[int(num) for num in line.split(' ')] for line in f]\n",
    "node_num = l[0]\n",
    "del l[0]\n",
    "np_am = np.array(l)\n",
    "G = nx.from_numpy_matrix(np_am)\n",
    "G2= nx.from_numpy_matrix(np_am)\n",
    "nx.draw_networkx(G, with_label=True)  \n",
    "plt.show()"
   ]
  },
  {
   "cell_type": "code",
   "execution_count": 4,
   "metadata": {},
   "outputs": [],
   "source": [
    "def edge_to_remove(G):\n",
    "    path_length = dict(nx.all_pairs_shortest_path_length(G))\n",
    "    path = dict(nx.all_pairs_shortest_path(G))\n",
    "    l= len(path_length)\n",
    "    temp = list(G.edges.keys())\n",
    "    edgelist = np.array(temp)\n",
    "    l2 = len(temp)\n",
    "    betweeness = []\n",
    "    highest_betweeness = 0\n",
    "    highest_lists = []\n",
    "    \n",
    "    for i in range(l2):\n",
    "        betweeness.append(0)\n",
    "        for j in path.keys():\n",
    "            for k in path[j].keys():\n",
    "                if (edgelist[i][0] in path[j][k] and edgelist[i][1] in path[j][k]):\n",
    "                    betweeness[i] = betweeness[i] +1\n",
    "\n",
    "    highest_betweeness = (np.array(betweeness)).max()\n",
    "    for n in range(l2):\n",
    "        if betweeness[n] == highest_betweeness:\n",
    "            highest_lists.append(temp[n])\n",
    "    return highest_lists\n",
    "    \n",
    "            "
   ]
  },
  {
   "cell_type": "code",
   "execution_count": 5,
   "metadata": {},
   "outputs": [],
   "source": [
    "def grivan(G):\n",
    "    print ('network decomposition:')\n",
    "    community_list = []\n",
    "    l=0\n",
    "    while ( l != int(node_num[0])):\n",
    "        G.remove_edges_from(edge_to_remove(G))\n",
    "        c =nx.connected_component_subgraphs(G)\n",
    "        a = 0\n",
    "        cluster = 0\n",
    "        community = []\n",
    "        sort_len = []\n",
    "        for i in c:\n",
    "            community.append(list(i))\n",
    "            community[a].sort()\n",
    "            community.sort(key = len, reverse = True)\n",
    "            a = a+1\n",
    "        l = a\n",
    "        cluster = cluster +1\n",
    "        community_list.append(community)\n",
    "        \n",
    "        print (tuple(community))\n",
    "    return community_list # return the cluster lists\n"
   ]
  },
  {
   "cell_type": "code",
   "execution_count": 6,
   "metadata": {
    "scrolled": false
   },
   "outputs": [
    {
     "name": "stdout",
     "output_type": "stream",
     "text": [
      "network decomposition:\n",
      "([0, 1, 2, 3], [5, 6, 7, 8], [4])\n",
      "([0], [1], [2], [3], [4], [5], [6], [7], [8])\n"
     ]
    }
   ],
   "source": [
    "comm = grivan(G)"
   ]
  },
  {
   "cell_type": "code",
   "execution_count": 7,
   "metadata": {},
   "outputs": [],
   "source": [
    "def modularity(F, comm): # calculate the modularity of the group\n",
    "    m = nx.number_of_edges(F)\n",
    "    total_modu =0;\n",
    "    c = len(comm)\n",
    "    \n",
    "    for part in range (c): #get all the node from edge\n",
    "        rank = len(comm[part])\n",
    "        for node1 in range(rank):\n",
    "            i = comm[part][node1]\n",
    "            for node2 in range(rank):\n",
    "                j = comm[part][node2]\n",
    "                if (F.has_edge(i,j)):\n",
    "                    Aij = 1\n",
    "                else : \n",
    "                    Aij = 0\n",
    "                ki= F.degree[i]\n",
    "                kj= F.degree[j]\n",
    "                Qij = (Aij - ki*kj/(2*m))/(2*m)\n",
    "                total_modu += Qij\n",
    "    print (c, \" clusters: modularity \", total_modu )\n",
    "    return total_modu\n"
   ]
  },
  {
   "cell_type": "code",
   "execution_count": 8,
   "metadata": {},
   "outputs": [
    {
     "name": "stdout",
     "output_type": "stream",
     "text": [
      "3  clusters: modularity  0.4209183673469388\n",
      "9  clusters: modularity  -0.11479591836734694\n",
      "optimal_structure:  ([0, 1, 2, 3], [5, 6, 7, 8], [4])\n"
     ]
    }
   ],
   "source": [
    "optimal = -9999\n",
    "optimal_no = 0;\n",
    "cluster_no = len(comm)\n",
    "\n",
    "for i in range (cluster_no):\n",
    "    temp = modularity(G2,comm[i])\n",
    "    if (temp > optimal):\n",
    "        optimal = temp;\n",
    "    oprimal_no = i\n",
    "\n",
    "print (\"optimal_structure: \", tuple(comm[optimal_no]))\n"
   ]
  },
  {
   "cell_type": "code",
   "execution_count": 9,
   "metadata": {},
   "outputs": [],
   "source": [
    "#question2"
   ]
  },
  {
   "cell_type": "code",
   "execution_count": 10,
   "metadata": {},
   "outputs": [
    {
     "name": "stderr",
     "output_type": "stream",
     "text": [
      "/anaconda3/lib/python3.7/site-packages/matplotlib/figure.py:98: MatplotlibDeprecationWarning: \n",
      "Adding an axes using the same arguments as a previous axes currently reuses the earlier instance.  In a future version, a new instance will always be created and returned.  Meanwhile, this warning can be suppressed, and the future behavior ensured, by passing a unique label to each axes instance.\n",
      "  \"Adding an axes using the same arguments as a previous axes \"\n"
     ]
    },
    {
     "data": {
      "image/png": "[encoded data removed]",
      "text/plain": [
       "<Figure size 480x320 with 1 Axes>"
      ]
     },
     "metadata": {
      "needs_background": "light"
     },
     "output_type": "display_data"
    }
   ],
   "source": [
    "x =np.logspace(-3,0, num=20)\n",
    "y1 = []\n",
    "y2 = []\n",
    "\n",
    "for n in x:\n",
    "    F = nx.watts_strogatz_graph(1000,4,n,0)\n",
    "    y1.append(nx.average_clustering(F)*2)\n",
    "    y2.append(nx.average_shortest_path_length(F))\n",
    "\n",
    "value = np.array(y2)\n",
    "y2 = value/value.max()\n",
    "\n",
    "value2 = np.array(y1)\n",
    "y1 = value2/value2.max()\n",
    "\n",
    "p = plt.figure(figsize=(6,4), dpi=80)\n",
    "plt.title('The Small World Model')\n",
    "plt.ylabel('Clustering Coefficient')\n",
    "plt.xlabel('Prob. of rewiring p')\n",
    "p3 = p.add_subplot(111)\n",
    "p3.set_xscale(\"log\")\n",
    "p3.plot(x, y1,'g--',label = 'clustering coefficient')\n",
    "p3.plot(x, y2,label = 'mean vertex-vertex distance')\n",
    "p3.legend()\n",
    "plt.show()\n"
   ]
  },
  {
   "cell_type": "code",
   "execution_count": null,
   "metadata": {},
   "outputs": [],
   "source": []
  }
 ],
 "metadata": {
  "kernelspec": {
   "display_name": "Python 3",
   "language": "python",
   "name": "python3"
  },
  "language_info": {
   "codemirror_mode": {
    "name": "ipython",
    "version": 3
   },
   "file_extension": ".py",
   "mimetype": "text/x-python",
   "name": "python",
   "nbconvert_exporter": "python",
   "pygments_lexer": "ipython3",
   "version": "3.7.1"
  }
 },
 "nbformat": 4,
 "nbformat_minor": 2
}
